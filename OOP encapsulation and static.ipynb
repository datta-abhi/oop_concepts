{
 "cells": [
  {
   "cell_type": "markdown",
   "metadata": {
    "id": "JUmWTebLbjwN"
   },
   "source": [
    "### Write OOP classes to handle the following scenarios:\n",
    "\n",
    "- A user can create and view 2D coordinates\n",
    "- A user can find out the distance between 2 coordinates\n",
    "- A user can find find the distance of a coordinate from origin\n",
    "- A user can check if a point lies on a given line\n",
    "- A user can find the distance between a given 2D point and a given line\n",
    "\n"
   ]
  },
  {
   "cell_type": "code",
   "execution_count": 14,
   "metadata": {},
   "outputs": [],
   "source": [
    "class Point:\n",
    "        \n",
    "#     parameterized constructor\n",
    "    def __init__(self,x,y):\n",
    "        self.x_cod = x\n",
    "        self.y_cod = y\n",
    "        \n",
    "    def __str__(self):\n",
    "        return '<{},{}>'.format(self.x_cod,self.y_cod)\n",
    "    \n",
    "    def distance(self,other):\n",
    "        return ((self.x_cod - other.x_cod)**2 + (self.y_cod - other.y_cod)**2)**0.5\n",
    "    \n",
    "    def distance_from_origin(self):\n",
    "        return self.distance(Point(0,0))   # don't need to pass self inside distance"
   ]
  },
  {
   "cell_type": "code",
   "execution_count": 15,
   "metadata": {},
   "outputs": [
    {
     "name": "stdout",
     "output_type": "stream",
     "text": [
      "<10,10>\n",
      "<1,1>\n"
     ]
    }
   ],
   "source": [
    "p1 = Point(10,10)\n",
    "p2 = Point(1,1)\n",
    "\n",
    "print(p1)\n",
    "print(p2)"
   ]
  },
  {
   "cell_type": "code",
   "execution_count": 16,
   "metadata": {
    "scrolled": true
   },
   "outputs": [
    {
     "data": {
      "text/plain": [
       "12.727922061357855"
      ]
     },
     "execution_count": 16,
     "metadata": {},
     "output_type": "execute_result"
    }
   ],
   "source": [
    "p1.distance(p2)"
   ]
  },
  {
   "cell_type": "code",
   "execution_count": 17,
   "metadata": {},
   "outputs": [
    {
     "data": {
      "text/plain": [
       "14.142135623730951"
      ]
     },
     "execution_count": 17,
     "metadata": {},
     "output_type": "execute_result"
    }
   ],
   "source": [
    "p1.distance_from_origin()"
   ]
  },
  {
   "cell_type": "code",
   "execution_count": 45,
   "metadata": {},
   "outputs": [],
   "source": [
    "class Line:\n",
    "    \n",
    "#     parameterized constructor\n",
    "    def __init__(self,a,b,c):\n",
    "        self.A = a\n",
    "        self.B = b\n",
    "        self.C = c\n",
    "        \n",
    "    def __str__(self):\n",
    "        return '{}x +{}y +{} = 0'.format(self.A,self.B,self.C)\n",
    "        \n",
    "    def point_to_line(self,point):\n",
    "        return abs(self.A*point.x_cod + self.B*point.y_cod + self.C)/(self.A**2 + self.B**2)**0.5\n",
    "    \n",
    "    def is_point_on_line(self,point):\n",
    "        if self.point_to_line(point) == 0:\n",
    "            return 'lies on line'\n",
    "        else:\n",
    "            return 'not on line'\n",
    "        \n",
    "    def is_parallel_intersecting_coincident(self,other):\n",
    "        \n",
    "       # Check for division by zero\n",
    "        if self.B == 0 or other.B == 0:\n",
    "               return \"invalid input\"\n",
    "\n",
    "        m1 = -self.A / self.B\n",
    "        m2 = -other.A / other.B\n",
    "\n",
    "        intercept1 = -self.C / self.B\n",
    "        intercept2 = -other.C / other.B\n",
    "       \n",
    "        # Check if the lines are parallel\n",
    "        if abs(m1 - m2) < 0.0000001:\n",
    "            # Check if the lines are coincident\n",
    "            if abs(intercept1 - intercept2) < 0.0000001:\n",
    "                return \"coincident\"\n",
    "            else:\n",
    "                return \"parallel\"\n",
    "        else:\n",
    "            return \"intersecting\"\n",
    "        "
   ]
  },
  {
   "cell_type": "code",
   "execution_count": 46,
   "metadata": {},
   "outputs": [
    {
     "name": "stdout",
     "output_type": "stream",
     "text": [
      "1x +1y +-2 = 0\n",
      "<-10,12>\n",
      "0.0\n",
      "lies on line\n"
     ]
    }
   ],
   "source": [
    "l1 = Line(1,1,-2)\n",
    "p1 = Point(-10,12)\n",
    "print(l1)\n",
    "print(p1)\n",
    "\n",
    "print(l1.point_to_line(p1))\n",
    "print(l1.is_point_on_line(p1))"
   ]
  },
  {
   "cell_type": "code",
   "execution_count": 49,
   "metadata": {},
   "outputs": [
    {
     "name": "stdout",
     "output_type": "stream",
     "text": [
      "2.1333333333333333\n",
      "intersecting\n"
     ]
    }
   ],
   "source": [
    "l1 = Line(2,3,-4)\n",
    "l2 = Line(4,5,4)\n",
    "\n",
    "print(l1.is_parallel_intersecting_coincident(l2))"
   ]
  },
  {
   "cell_type": "code",
   "execution_count": null,
   "metadata": {},
   "outputs": [],
   "source": []
  },
  {
   "cell_type": "markdown",
   "metadata": {
    "id": "s6n-PpwgfiMv"
   },
   "source": [
    "### How objects access attributes"
   ]
  },
  {
   "cell_type": "markdown",
   "metadata": {
    "id": "gFxMl3Gpfmq-"
   },
   "source": [
    "### Attribute creation from outside of the class"
   ]
  },
  {
   "cell_type": "markdown",
   "metadata": {
    "id": "s26UEjp6fqjn"
   },
   "source": [
    "### Reference Variables\n",
    "\n",
    "- Reference variables hold the objects\n",
    "- We can create objects without reference variable as well\n",
    "- An object can have multiple reference variables\n",
    "- Assigning a new reference variable to an existing object does not create a new object"
   ]
  },
  {
   "cell_type": "markdown",
   "metadata": {
    "id": "4nqDJqJvfukO"
   },
   "source": [
    "### Pass by reference"
   ]
  },
  {
   "cell_type": "markdown",
   "metadata": {
    "id": "gRNNs9_DFvud"
   },
   "source": [
    "### Object ki mutability"
   ]
  },
  {
   "cell_type": "markdown",
   "metadata": {
    "id": "A2Opzki1fw7x"
   },
   "source": [
    "### Encapsulation"
   ]
  },
  {
   "cell_type": "markdown",
   "metadata": {
    "id": "2zN_yVYaf0_1"
   },
   "source": [
    "### Collection of objects"
   ]
  },
  {
   "cell_type": "code",
   "execution_count": null,
   "metadata": {
    "id": "UN7FByT3LZSX"
   },
   "outputs": [],
   "source": []
  },
  {
   "cell_type": "markdown",
   "metadata": {
    "id": "TKdM9xIFf8Lt"
   },
   "source": [
    "### Static Variables(Vs Instance variables)"
   ]
  },
  {
   "cell_type": "code",
   "execution_count": null,
   "metadata": {
    "id": "yQakCFqbf-kB"
   },
   "outputs": [],
   "source": [
    "# need for static vars"
   ]
  },
  {
   "cell_type": "markdown",
   "metadata": {
    "id": "K9bxHyfBgC3Y"
   },
   "source": [
    "### Static methods"
   ]
  },
  {
   "cell_type": "code",
   "execution_count": null,
   "metadata": {
    "id": "_c09xqV9gEf-"
   },
   "outputs": [],
   "source": []
  },
  {
   "cell_type": "markdown",
   "metadata": {
    "id": "Izqb_9FtwoIZ"
   },
   "source": [
    "##### Points to remember about static\n",
    "\n",
    "- Static attributes are created at class level.\n",
    "- Static attributes are accessed using ClassName.\n",
    "- Static attributes are object independent. We can access them without creating instance (object) of the class in which they are defined.\n",
    "- The value stored in static attribute is shared between all instances(objects) of the class in which the static attribute is defined."
   ]
  }
 ],
 "metadata": {
  "colab": {
   "provenance": []
  },
  "kernelspec": {
   "display_name": "Python 3 (ipykernel)",
   "language": "python",
   "name": "python3"
  },
  "language_info": {
   "codemirror_mode": {
    "name": "ipython",
    "version": 3
   },
   "file_extension": ".py",
   "mimetype": "text/x-python",
   "name": "python",
   "nbconvert_exporter": "python",
   "pygments_lexer": "ipython3",
   "version": "3.11.4"
  }
 },
 "nbformat": 4,
 "nbformat_minor": 1
}
