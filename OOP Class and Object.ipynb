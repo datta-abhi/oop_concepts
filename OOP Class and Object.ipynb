{
 "cells": [
  {
   "cell_type": "code",
   "execution_count": 1,
   "id": "9ee6f77c",
   "metadata": {},
   "outputs": [
    {
     "ename": "AttributeError",
     "evalue": "'list' object has no attribute 'upper'",
     "output_type": "error",
     "traceback": [
      "\u001b[1;31m---------------------------------------------------------------------------\u001b[0m",
      "\u001b[1;31mAttributeError\u001b[0m                            Traceback (most recent call last)",
      "Cell \u001b[1;32mIn[1], line 2\u001b[0m\n\u001b[0;32m      1\u001b[0m L \u001b[38;5;241m=\u001b[39m [\u001b[38;5;241m1\u001b[39m,\u001b[38;5;241m2\u001b[39m,\u001b[38;5;241m3\u001b[39m,\u001b[38;5;241m4\u001b[39m,\u001b[38;5;241m5\u001b[39m]\n\u001b[1;32m----> 2\u001b[0m L\u001b[38;5;241m.\u001b[39mupper()\n",
      "\u001b[1;31mAttributeError\u001b[0m: 'list' object has no attribute 'upper'"
     ]
    }
   ],
   "source": [
    "L = [1,2,3,4,5]\n",
    "L.upper()"
   ]
  },
  {
   "cell_type": "code",
   "execution_count": 2,
   "id": "01981b66",
   "metadata": {},
   "outputs": [
    {
     "ename": "AttributeError",
     "evalue": "'str' object has no attribute 'append'",
     "output_type": "error",
     "traceback": [
      "\u001b[1;31m---------------------------------------------------------------------------\u001b[0m",
      "\u001b[1;31mAttributeError\u001b[0m                            Traceback (most recent call last)",
      "Cell \u001b[1;32mIn[2], line 2\u001b[0m\n\u001b[0;32m      1\u001b[0m s \u001b[38;5;241m=\u001b[39m \u001b[38;5;124m'\u001b[39m\u001b[38;5;124mhello\u001b[39m\u001b[38;5;124m'\u001b[39m\n\u001b[1;32m----> 2\u001b[0m s\u001b[38;5;241m.\u001b[39mappend(\u001b[38;5;124m'\u001b[39m\u001b[38;5;124mstudents\u001b[39m\u001b[38;5;124m'\u001b[39m)\n",
      "\u001b[1;31mAttributeError\u001b[0m: 'str' object has no attribute 'append'"
     ]
    }
   ],
   "source": [
    "s = 'hello'\n",
    "s.append('students')"
   ]
  },
  {
   "cell_type": "markdown",
   "id": "29fb1669",
   "metadata": {},
   "source": [
    "## Procedural vs Object Oriented Approach"
   ]
  },
  {
   "cell_type": "markdown",
   "id": "f9002e7a",
   "metadata": {},
   "source": [
    "Real World Applications built using Objcet oriented approach."
   ]
  },
  {
   "cell_type": "markdown",
   "id": "fe75c01f",
   "metadata": {},
   "source": [
    "Generality to Specificity"
   ]
  },
  {
   "cell_type": "markdown",
   "id": "f124f248",
   "metadata": {},
   "source": [
    "Ability to create own data type based on specific requirement"
   ]
  },
  {
   "cell_type": "markdown",
   "id": "b6a58d98",
   "metadata": {},
   "source": [
    "Class --> Object --> Polymorphism --> Encapsulation --> Inheritance --> Abstraction"
   ]
  },
  {
   "cell_type": "markdown",
   "id": "b5a3572b",
   "metadata": {},
   "source": [
    "# Create an ATM class"
   ]
  },
  {
   "cell_type": "code",
   "execution_count": 31,
   "id": "6022cb5b",
   "metadata": {},
   "outputs": [],
   "source": [
    "class Atm():\n",
    "#     constructor (magic method) --> executes by default only by creating an object,\n",
    "#     doesn't need to call this function explicitly\n",
    "\n",
    "    def __init__(self):\n",
    "        self.pin = ''\n",
    "        self.balance = 0\n",
    "        self.menu()\n",
    "        \n",
    "    def menu(self):\n",
    "                \n",
    "        user_input = input(\"\"\"\n",
    "        Hi. please select from following menu:\n",
    "        1. Press 1 to create your PIN\n",
    "        2. Press 2 to change PIN\n",
    "        3. Press 3 to check balance\n",
    "        4. Press 4 to withdraw\n",
    "        5. Press any other key to exit\n",
    "        \"\"\")\n",
    "        \n",
    "        if user_input == '1':\n",
    "            self.create_pin()\n",
    "                \n",
    "        if user_input == '2':\n",
    "            self.change_pin()\n",
    "                \n",
    "        if user_input == '3':\n",
    "            self.check_balance()\n",
    "                \n",
    "        if user_input == '4':\n",
    "            self.withdraw()\n",
    "                \n",
    "        else:\n",
    "            print('Exiting the menu')\n",
    "\n",
    "    def create_pin(self):\n",
    "        user_pin =input('Enter your pin: ')\n",
    "        self.pin = user_pin\n",
    "        \n",
    "        user_balance = int(input('Enter your balance: '))\n",
    "        self.balance = user_balance\n",
    "        \n",
    "        print('PIN created successfully')\n",
    "        self.menu()\n",
    "        \n",
    "    def change_pin(self):\n",
    "        attempt_pin = input(\"Enter existing PIN: \")\n",
    "        \n",
    "        if attempt_pin == self.pin:\n",
    "            new_pin =input('Enter new pin: ')\n",
    "            self.pin = new_pin\n",
    "            print('Print created successfully')\n",
    "            \n",
    "        else:\n",
    "            print('Wrong PIN, try again')\n",
    "            \n",
    "        self.menu()  \n",
    "        \n",
    "    def check_balance(self):\n",
    "        attempt_pin = input(\"Enter your PIN: \")\n",
    "         \n",
    "        if attempt_pin == self.pin:\n",
    "            print('Your balance is: ',self.balance)\n",
    "            \n",
    "        else:\n",
    "            print('Wrong PIN')\n",
    "            \n",
    "        self.menu()\n",
    "        \n",
    "    def withdraw(self):\n",
    "        attempt_pin = input('Enter your PIN: ')\n",
    "        \n",
    "        if attempt_pin == self.pin:\n",
    "            # allow to withdraw\n",
    "            withdraw_amt = int(input('Enter the amount you want to withdraw: '))\n",
    "            \n",
    "            if withdraw_amt <= self.balance:\n",
    "                self.balance-= withdraw_amt\n",
    "                print('withdraw successful,remaining balance: ',self.balance)\n",
    "            else:\n",
    "                print('Balance insufficient')\n",
    "                \n",
    "        else:\n",
    "            print('Wrong PIN')\n",
    "            \n",
    "        self.menu()    "
   ]
  },
  {
   "cell_type": "code",
   "execution_count": 33,
   "id": "8302cc8f",
   "metadata": {},
   "outputs": [
    {
     "name": "stdout",
     "output_type": "stream",
     "text": [
      "\n",
      "        Hi. please select from following menu:\n",
      "        1. Press 1 to create your PIN\n",
      "        2. Press 2 to change PIN\n",
      "        3. Press 3 to check balance\n",
      "        4. Press 4 to withdraw\n",
      "        5. Press any other key to exit\n",
      "        1\n",
      "Enter your pin: 1234\n",
      "Enter your balance: 5000\n",
      "PIN created successfully\n",
      "\n",
      "        Hi. please select from following menu:\n",
      "        1. Press 1 to create your PIN\n",
      "        2. Press 2 to change PIN\n",
      "        3. Press 3 to check balance\n",
      "        4. Press 4 to withdraw\n",
      "        5. Press any other key to exit\n",
      "        4\n",
      "Enter your PIN: 1234\n",
      "Enter the amount you want to withdraw: 2000\n",
      "withdraw successful,remaining balance:  3000\n",
      "\n",
      "        Hi. please select from following menu:\n",
      "        1. Press 1 to create your PIN\n",
      "        2. Press 2 to change PIN\n",
      "        3. Press 3 to check balance\n",
      "        4. Press 4 to withdraw\n",
      "        5. Press any other key to exit\n",
      "        3\n",
      "Enter your PIN: qwer\n",
      "Wrong PIN\n",
      "\n",
      "        Hi. please select from following menu:\n",
      "        1. Press 1 to create your PIN\n",
      "        2. Press 2 to change PIN\n",
      "        3. Press 3 to check balance\n",
      "        4. Press 4 to withdraw\n",
      "        5. Press any other key to exit\n",
      "        4\n",
      "Enter your PIN: 1234\n",
      "Enter the amount you want to withdraw: 4000\n",
      "Balance insufficient\n",
      "\n",
      "        Hi. please select from following menu:\n",
      "        1. Press 1 to create your PIN\n",
      "        2. Press 2 to change PIN\n",
      "        3. Press 3 to check balance\n",
      "        4. Press 4 to withdraw\n",
      "        5. Press any other key to exit\n",
      "        4\n",
      "Enter your PIN: 1234\n",
      "Enter the amount you want to withdraw: 1000\n",
      "withdraw successful,remaining balance:  2000\n",
      "\n",
      "        Hi. please select from following menu:\n",
      "        1. Press 1 to create your PIN\n",
      "        2. Press 2 to change PIN\n",
      "        3. Press 3 to check balance\n",
      "        4. Press 4 to withdraw\n",
      "        5. Press any other key to exit\n",
      "        3\n",
      "Enter your PIN: 1234\n",
      "Your balance is:  2000\n",
      "\n",
      "        Hi. please select from following menu:\n",
      "        1. Press 1 to create your PIN\n",
      "        2. Press 2 to change PIN\n",
      "        3. Press 3 to check balance\n",
      "        4. Press 4 to withdraw\n",
      "        5. Press any other key to exit\n",
      "         7\n",
      "Exiting the menu\n",
      "Exiting the menu\n",
      "Exiting the menu\n",
      "Exiting the menu\n"
     ]
    }
   ],
   "source": [
    "atm1 = Atm()"
   ]
  },
  {
   "cell_type": "code",
   "execution_count": 28,
   "id": "e165e34f",
   "metadata": {},
   "outputs": [
    {
     "data": {
      "text/plain": [
       "''"
      ]
     },
     "execution_count": 28,
     "metadata": {},
     "output_type": "execute_result"
    }
   ],
   "source": [
    "atm1.pin"
   ]
  },
  {
   "cell_type": "markdown",
   "id": "4615a930",
   "metadata": {},
   "source": [
    "# Creating a Fraction data type"
   ]
  },
  {
   "cell_type": "code",
   "execution_count": 70,
   "id": "f5aa7049",
   "metadata": {},
   "outputs": [],
   "source": [
    "class Fraction:\n",
    "    \n",
    "#     parameterized constructor --> takes other than self arguments\n",
    "    def __init__(self,x,y):\n",
    "        self.num = x\n",
    "        self.den = y\n",
    "        \n",
    "    def __str__(self):\n",
    "        return '{}/{}'.format(self.num,self.den)\n",
    "    \n",
    "    def __add__(self,other):\n",
    "        new_num = self.num*other.den + self.den*other.num\n",
    "        new_den = self.den*other.den\n",
    "        \n",
    "        return '{}/{}'.format(new_num,new_den)\n",
    "    \n",
    "    def __sub__(self,other):\n",
    "        new_num = self.num*other.den - self.den*other.num\n",
    "        new_den = self.den*other.den\n",
    "        \n",
    "        return '{}/{}'.format(new_num,new_den)\n",
    "    \n",
    "    def __mul__(self,other):\n",
    "        new_num = self.num*other.num\n",
    "        new_den = self.den*other.den\n",
    "        \n",
    "        return '{}/{}'.format(new_num,new_den)\n",
    "    \n",
    "    def __truediv__(self,other):\n",
    "        new_num = self.num*other.den\n",
    "        new_den = self.den*other.num\n",
    "        \n",
    "        return '{}/{}'.format(new_num,new_den)\n",
    "    \n",
    "    def convert_to_decimal(self):\n",
    "        return round(self.num/self.den,5)"
   ]
  },
  {
   "cell_type": "code",
   "execution_count": 71,
   "id": "ee7cdbee",
   "metadata": {},
   "outputs": [],
   "source": [
    "f1 = Fraction(10,3)\n",
    "f2 = Fraction(1,2)"
   ]
  },
  {
   "cell_type": "code",
   "execution_count": 72,
   "id": "d16d686f",
   "metadata": {},
   "outputs": [
    {
     "name": "stdout",
     "output_type": "stream",
     "text": [
      "17/6\n",
      "-17/6\n",
      "10/6\n",
      "20/3\n"
     ]
    }
   ],
   "source": [
    "print(f1-f2)\n",
    "print(f2-f1)\n",
    "print(f1*f2)\n",
    "print(f1 / f2)"
   ]
  },
  {
   "cell_type": "code",
   "execution_count": 73,
   "id": "4796c0df",
   "metadata": {},
   "outputs": [
    {
     "data": {
      "text/plain": [
       "3.33333"
      ]
     },
     "execution_count": 73,
     "metadata": {},
     "output_type": "execute_result"
    }
   ],
   "source": [
    "f1.convert_to_decimal()"
   ]
  },
  {
   "cell_type": "code",
   "execution_count": null,
   "id": "5d508a46",
   "metadata": {},
   "outputs": [],
   "source": []
  }
 ],
 "metadata": {
  "kernelspec": {
   "display_name": "Python 3 (ipykernel)",
   "language": "python",
   "name": "python3"
  },
  "language_info": {
   "codemirror_mode": {
    "name": "ipython",
    "version": 3
   },
   "file_extension": ".py",
   "mimetype": "text/x-python",
   "name": "python",
   "nbconvert_exporter": "python",
   "pygments_lexer": "ipython3",
   "version": "3.11.4"
  }
 },
 "nbformat": 4,
 "nbformat_minor": 5
}
